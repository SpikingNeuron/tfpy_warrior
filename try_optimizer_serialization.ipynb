{
 "cells": [
  {
   "cell_type": "code",
   "execution_count": 8,
   "metadata": {
    "collapsed": true
   },
   "outputs": [],
   "source": []
  },
  {
   "cell_type": "markdown",
   "source": [
    "<a href=\"https://colab.research.google.com/github/SpikingNeuron/tfpy_warrior/blob/master/try_optimizer_serialization.ipynb\" target=\"_parent\"><img src=\"https://colab.research.google.com/assets/colab-badge.svg\" alt=\"Open In Colab\"/></a>\n",
    "\n",
    "### Current behavior\n",
    "I have provided two code snippets for serializing and deserializing Keras optimizer. One of them works and other doesn't.\n",
    "\n",
    "### Expected behavior\n",
    "Both the code snippets should work."
   ],
   "metadata": {
    "collapsed": false
   }
  },
  {
   "cell_type": "code",
   "execution_count": 9,
   "outputs": [
    {
     "name": "stdout",
     "output_type": "stream",
     "text": [
      "Requirement already satisfied: tensorflow==2.2 in c:\\users\\prave\\appdata\\local\\programs\\python\\python38\\lib\\site-packages (2.2.0)\n",
      "Requirement already satisfied: numpy<2.0,>=1.16.0 in c:\\users\\prave\\appdata\\local\\programs\\python\\python38\\lib\\site-packages (from tensorflow==2.2) (1.19.0)\n",
      "Requirement already satisfied: opt-einsum>=2.3.2 in c:\\users\\prave\\appdata\\local\\programs\\python\\python38\\lib\\site-packages (from tensorflow==2.2) (3.2.1)\n",
      "Requirement already satisfied: six>=1.12.0 in c:\\users\\prave\\appdata\\local\\programs\\python\\python38\\lib\\site-packages (from tensorflow==2.2) (1.15.0)\n",
      "Requirement already satisfied: google-pasta>=0.1.8 in c:\\users\\prave\\appdata\\local\\programs\\python\\python38\\lib\\site-packages (from tensorflow==2.2) (0.2.0)\n",
      "Requirement already satisfied: h5py<2.11.0,>=2.10.0 in c:\\users\\prave\\appdata\\local\\programs\\python\\python38\\lib\\site-packages (from tensorflow==2.2) (2.10.0)\n",
      "Requirement already satisfied: protobuf>=3.8.0 in c:\\users\\prave\\appdata\\local\\programs\\python\\python38\\lib\\site-packages (from tensorflow==2.2) (3.12.2)\n",
      "Requirement already satisfied: grpcio>=1.8.6 in c:\\users\\prave\\appdata\\local\\programs\\python\\python38\\lib\\site-packages (from tensorflow==2.2) (1.29.0)\n",
      "Requirement already satisfied: wrapt>=1.11.1 in c:\\users\\prave\\appdata\\local\\programs\\python\\python38\\lib\\site-packages (from tensorflow==2.2) (1.12.1)\n",
      "Requirement already satisfied: termcolor>=1.1.0 in c:\\users\\prave\\appdata\\local\\programs\\python\\python38\\lib\\site-packages (from tensorflow==2.2) (1.1.0)\n",
      "Requirement already satisfied: tensorflow-estimator<2.3.0,>=2.2.0 in c:\\users\\prave\\appdata\\local\\programs\\python\\python38\\lib\\site-packages (from tensorflow==2.2) (2.2.0)\n",
      "Requirement already satisfied: absl-py>=0.7.0 in c:\\users\\prave\\appdata\\local\\programs\\python\\python38\\lib\\site-packages (from tensorflow==2.2) (0.9.0)\n",
      "Requirement already satisfied: gast==0.3.3 in c:\\users\\prave\\appdata\\local\\programs\\python\\python38\\lib\\site-packages (from tensorflow==2.2) (0.3.3)\n",
      "Requirement already satisfied: astunparse==1.6.3 in c:\\users\\prave\\appdata\\local\\programs\\python\\python38\\lib\\site-packages (from tensorflow==2.2) (1.6.3)\n",
      "Requirement already satisfied: tensorboard<2.3.0,>=2.2.0 in c:\\users\\prave\\appdata\\local\\programs\\python\\python38\\lib\\site-packages (from tensorflow==2.2) (2.2.2)\n",
      "Requirement already satisfied: wheel>=0.26; python_version >= \"3\" in c:\\users\\prave\\appdata\\local\\programs\\python\\python38\\lib\\site-packages (from tensorflow==2.2) (0.34.2)\n",
      "Requirement already satisfied: scipy==1.4.1; python_version >= \"3\" in c:\\users\\prave\\appdata\\local\\programs\\python\\python38\\lib\\site-packages (from tensorflow==2.2) (1.4.1)\n",
      "Requirement already satisfied: keras-preprocessing>=1.1.0 in c:\\users\\prave\\appdata\\local\\programs\\python\\python38\\lib\\site-packages (from tensorflow==2.2) (1.1.2)\n",
      "Requirement already satisfied: setuptools in c:\\users\\prave\\appdata\\local\\programs\\python\\python38\\lib\\site-packages (from protobuf>=3.8.0->tensorflow==2.2) (41.2.0)\n",
      "Requirement already satisfied: requests<3,>=2.21.0 in c:\\users\\prave\\appdata\\local\\programs\\python\\python38\\lib\\site-packages (from tensorboard<2.3.0,>=2.2.0->tensorflow==2.2) (2.24.0)\n",
      "Requirement already satisfied: tensorboard-plugin-wit>=1.6.0 in c:\\users\\prave\\appdata\\local\\programs\\python\\python38\\lib\\site-packages (from tensorboard<2.3.0,>=2.2.0->tensorflow==2.2) (1.6.0.post3)\n",
      "Requirement already satisfied: werkzeug>=0.11.15 in c:\\users\\prave\\appdata\\local\\programs\\python\\python38\\lib\\site-packages (from tensorboard<2.3.0,>=2.2.0->tensorflow==2.2) (1.0.1)\n",
      "Requirement already satisfied: google-auth<2,>=1.6.3 in c:\\users\\prave\\appdata\\local\\programs\\python\\python38\\lib\\site-packages (from tensorboard<2.3.0,>=2.2.0->tensorflow==2.2) (1.16.1)\n",
      "Requirement already satisfied: markdown>=2.6.8 in c:\\users\\prave\\appdata\\local\\programs\\python\\python38\\lib\\site-packages (from tensorboard<2.3.0,>=2.2.0->tensorflow==2.2) (3.2.2)\n",
      "Requirement already satisfied: google-auth-oauthlib<0.5,>=0.4.1 in c:\\users\\prave\\appdata\\local\\programs\\python\\python38\\lib\\site-packages (from tensorboard<2.3.0,>=2.2.0->tensorflow==2.2) (0.4.1)\n",
      "Requirement already satisfied: urllib3!=1.25.0,!=1.25.1,<1.26,>=1.21.1 in c:\\users\\prave\\appdata\\local\\programs\\python\\python38\\lib\\site-packages (from requests<3,>=2.21.0->tensorboard<2.3.0,>=2.2.0->tensorflow==2.2) (1.22)\n",
      "Requirement already satisfied: certifi>=2017.4.17 in c:\\users\\prave\\appdata\\local\\programs\\python\\python38\\lib\\site-packages (from requests<3,>=2.21.0->tensorboard<2.3.0,>=2.2.0->tensorflow==2.2) (2020.4.5.1)\n",
      "Requirement already satisfied: chardet<4,>=3.0.2 in c:\\users\\prave\\appdata\\local\\programs\\python\\python38\\lib\\site-packages (from requests<3,>=2.21.0->tensorboard<2.3.0,>=2.2.0->tensorflow==2.2) (3.0.4)\n",
      "Requirement already satisfied: idna<3,>=2.5 in c:\\users\\prave\\appdata\\local\\programs\\python\\python38\\lib\\site-packages (from requests<3,>=2.21.0->tensorboard<2.3.0,>=2.2.0->tensorflow==2.2) (2.6)\n",
      "Requirement already satisfied: rsa<4.1,>=3.1.4 in c:\\users\\prave\\appdata\\local\\programs\\python\\python38\\lib\\site-packages (from google-auth<2,>=1.6.3->tensorboard<2.3.0,>=2.2.0->tensorflow==2.2) (4.0)\n",
      "Requirement already satisfied: pyasn1-modules>=0.2.1 in c:\\users\\prave\\appdata\\local\\programs\\python\\python38\\lib\\site-packages (from google-auth<2,>=1.6.3->tensorboard<2.3.0,>=2.2.0->tensorflow==2.2) (0.2.8)\n",
      "Requirement already satisfied: cachetools<5.0,>=2.0.0 in c:\\users\\prave\\appdata\\local\\programs\\python\\python38\\lib\\site-packages (from google-auth<2,>=1.6.3->tensorboard<2.3.0,>=2.2.0->tensorflow==2.2) (4.1.0)\n",
      "Requirement already satisfied: requests-oauthlib>=0.7.0 in c:\\users\\prave\\appdata\\local\\programs\\python\\python38\\lib\\site-packages (from google-auth-oauthlib<0.5,>=0.4.1->tensorboard<2.3.0,>=2.2.0->tensorflow==2.2) (1.3.0)\n",
      "Requirement already satisfied: pyasn1>=0.1.3 in c:\\users\\prave\\appdata\\local\\programs\\python\\python38\\lib\\site-packages (from rsa<4.1,>=3.1.4->google-auth<2,>=1.6.3->tensorboard<2.3.0,>=2.2.0->tensorflow==2.2) (0.4.8)\n",
      "Requirement already satisfied: oauthlib>=3.0.0 in c:\\users\\prave\\appdata\\local\\programs\\python\\python38\\lib\\site-packages (from requests-oauthlib>=0.7.0->google-auth-oauthlib<0.5,>=0.4.1->tensorboard<2.3.0,>=2.2.0->tensorflow==2.2) (3.1.0)\n"
     ]
    }
   ],
   "source": [
    "!pip install tensorflow==2.2"
   ],
   "metadata": {
    "collapsed": false,
    "pycharm": {
     "name": "#%%\n"
    }
   }
  },
  {
   "cell_type": "markdown",
   "source": [
    "Import and print version"
   ],
   "metadata": {
    "collapsed": false,
    "pycharm": {
     "name": "#%% md\n"
    }
   }
  },
  {
   "cell_type": "code",
   "execution_count": 10,
   "outputs": [
    {
     "name": "stdout",
     "output_type": "stream",
     "text": [
      "2.2.0\n"
     ]
    }
   ],
   "source": [
    "# import necessary modules\n",
    "import tensorflow.keras as tk\n",
    "print(tf.__version__)"
   ],
   "metadata": {
    "collapsed": false,
    "pycharm": {
     "name": "#%%\n"
    }
   }
  },
  {
   "cell_type": "markdown",
   "source": [
    "This code snippet in the below cell does not work"
   ],
   "metadata": {
    "collapsed": false
   }
  },
  {
   "cell_type": "code",
   "execution_count": 11,
   "outputs": [
    {
     "ename": "ValueError",
     "evalue": "Unknown object: Adam",
     "output_type": "error",
     "traceback": [
      "\u001B[1;31m---------------------------------------------------------------------------\u001B[0m",
      "\u001B[1;31mValueError\u001B[0m                                Traceback (most recent call last)",
      "\u001B[1;32m<ipython-input-11-5134559e2fee>\u001B[0m in \u001B[0;36m<module>\u001B[1;34m\u001B[0m\n\u001B[0;32m      3\u001B[0m \u001B[0mopt_ser\u001B[0m \u001B[1;33m=\u001B[0m \u001B[0mtk\u001B[0m\u001B[1;33m.\u001B[0m\u001B[0mutils\u001B[0m\u001B[1;33m.\u001B[0m\u001B[0mserialize_keras_object\u001B[0m\u001B[1;33m(\u001B[0m\u001B[0mopt\u001B[0m\u001B[1;33m)\u001B[0m\u001B[1;33m\u001B[0m\u001B[1;33m\u001B[0m\u001B[0m\n\u001B[0;32m      4\u001B[0m \u001B[1;33m\u001B[0m\u001B[0m\n\u001B[1;32m----> 5\u001B[1;33m \u001B[0mopt_deser\u001B[0m \u001B[1;33m=\u001B[0m \u001B[0mtk\u001B[0m\u001B[1;33m.\u001B[0m\u001B[0mutils\u001B[0m\u001B[1;33m.\u001B[0m\u001B[0mdeserialize_keras_object\u001B[0m\u001B[1;33m(\u001B[0m\u001B[0mopt_ser\u001B[0m\u001B[1;33m)\u001B[0m\u001B[1;33m\u001B[0m\u001B[1;33m\u001B[0m\u001B[0m\n\u001B[0m\u001B[0;32m      6\u001B[0m \u001B[1;33m\u001B[0m\u001B[0m\n\u001B[0;32m      7\u001B[0m \u001B[0mprint\u001B[0m\u001B[1;33m(\u001B[0m\u001B[0mopt_deser\u001B[0m\u001B[1;33m)\u001B[0m\u001B[1;33m\u001B[0m\u001B[1;33m\u001B[0m\u001B[0m\n",
      "\u001B[1;32mc:\\users\\prave\\appdata\\local\\programs\\python\\python38\\lib\\site-packages\\tensorflow\\python\\keras\\utils\\generic_utils.py\u001B[0m in \u001B[0;36mdeserialize_keras_object\u001B[1;34m(identifier, module_objects, custom_objects, printable_module_name)\u001B[0m\n\u001B[0;32m    359\u001B[0m     \u001B[1;31m# In this case we are dealing with a Keras config dictionary.\u001B[0m\u001B[1;33m\u001B[0m\u001B[1;33m\u001B[0m\u001B[1;33m\u001B[0m\u001B[0m\n\u001B[0;32m    360\u001B[0m     \u001B[0mconfig\u001B[0m \u001B[1;33m=\u001B[0m \u001B[0midentifier\u001B[0m\u001B[1;33m\u001B[0m\u001B[1;33m\u001B[0m\u001B[0m\n\u001B[1;32m--> 361\u001B[1;33m     (cls, cls_config) = class_and_config_for_serialized_keras_object(\n\u001B[0m\u001B[0;32m    362\u001B[0m         config, module_objects, custom_objects, printable_module_name)\n\u001B[0;32m    363\u001B[0m \u001B[1;33m\u001B[0m\u001B[0m\n",
      "\u001B[1;32mc:\\users\\prave\\appdata\\local\\programs\\python\\python38\\lib\\site-packages\\tensorflow\\python\\keras\\utils\\generic_utils.py\u001B[0m in \u001B[0;36mclass_and_config_for_serialized_keras_object\u001B[1;34m(config, module_objects, custom_objects, printable_module_name)\u001B[0m\n\u001B[0;32m    319\u001B[0m   \u001B[0mcls\u001B[0m \u001B[1;33m=\u001B[0m \u001B[0mget_registered_object\u001B[0m\u001B[1;33m(\u001B[0m\u001B[0mclass_name\u001B[0m\u001B[1;33m,\u001B[0m \u001B[0mcustom_objects\u001B[0m\u001B[1;33m,\u001B[0m \u001B[0mmodule_objects\u001B[0m\u001B[1;33m)\u001B[0m\u001B[1;33m\u001B[0m\u001B[1;33m\u001B[0m\u001B[0m\n\u001B[0;32m    320\u001B[0m   \u001B[1;32mif\u001B[0m \u001B[0mcls\u001B[0m \u001B[1;32mis\u001B[0m \u001B[1;32mNone\u001B[0m\u001B[1;33m:\u001B[0m\u001B[1;33m\u001B[0m\u001B[1;33m\u001B[0m\u001B[0m\n\u001B[1;32m--> 321\u001B[1;33m     \u001B[1;32mraise\u001B[0m \u001B[0mValueError\u001B[0m\u001B[1;33m(\u001B[0m\u001B[1;34m'Unknown '\u001B[0m \u001B[1;33m+\u001B[0m \u001B[0mprintable_module_name\u001B[0m \u001B[1;33m+\u001B[0m \u001B[1;34m': '\u001B[0m \u001B[1;33m+\u001B[0m \u001B[0mclass_name\u001B[0m\u001B[1;33m)\u001B[0m\u001B[1;33m\u001B[0m\u001B[1;33m\u001B[0m\u001B[0m\n\u001B[0m\u001B[0;32m    322\u001B[0m \u001B[1;33m\u001B[0m\u001B[0m\n\u001B[0;32m    323\u001B[0m   \u001B[0mcls_config\u001B[0m \u001B[1;33m=\u001B[0m \u001B[0mconfig\u001B[0m\u001B[1;33m[\u001B[0m\u001B[1;34m'config'\u001B[0m\u001B[1;33m]\u001B[0m\u001B[1;33m\u001B[0m\u001B[1;33m\u001B[0m\u001B[0m\n",
      "\u001B[1;31mValueError\u001B[0m: Unknown object: Adam"
     ]
    }
   ],
   "source": [
    "\n",
    "opt = tk.optimizers.Adam()\n",
    "\n",
    "opt_ser = tk.utils.serialize_keras_object(opt)\n",
    "\n",
    "opt_deser = tk.utils.deserialize_keras_object(opt_ser)\n",
    "\n",
    "print(opt_deser)\n"
   ],
   "metadata": {
    "collapsed": false,
    "pycharm": {
     "name": "#%%\n"
    }
   }
  },
  {
   "cell_type": "markdown",
   "source": [
    "However the code snippet in the below cell works\n",
    "\n",
    "+ Note that `tk.optimizers.deserialize` internally uses the same method\n",
    "  `tk.utils.deserialize_keras_object` which when used as in above snippet fails"
   ],
   "metadata": {
    "collapsed": false
   }
  },
  {
   "cell_type": "code",
   "execution_count": 12,
   "outputs": [
    {
     "name": "stdout",
     "output_type": "stream",
     "text": [
      "<tensorflow.python.keras.optimizer_v2.adam.Adam object at 0x000002B6DA7BADC0>\n"
     ]
    }
   ],
   "source": [
    "opt = tk.optimizers.Adam()\n",
    "\n",
    "opt_ser = tk.optimizers.serialize(opt)\n",
    "\n",
    "opt_deser = tk.optimizers.deserialize(opt_ser)\n",
    "\n",
    "print(opt_deser)\n"
   ],
   "metadata": {
    "collapsed": false,
    "pycharm": {
     "name": "#%%\n"
    }
   }
  }
 ],
 "metadata": {
  "kernelspec": {
   "display_name": "Python 3",
   "language": "python",
   "name": "python3"
  },
  "language_info": {
   "codemirror_mode": {
    "name": "ipython",
    "version": 2
   },
   "file_extension": ".py",
   "mimetype": "text/x-python",
   "name": "python",
   "nbconvert_exporter": "python",
   "pygments_lexer": "ipython2",
   "version": "2.7.6"
  }
 },
 "nbformat": 4,
 "nbformat_minor": 0
}